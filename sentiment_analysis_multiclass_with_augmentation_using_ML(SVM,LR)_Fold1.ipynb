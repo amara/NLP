{
  "cells": [
    {
      "cell_type": "markdown",
      "metadata": {
        "id": "NP7KQBbfWvQn"
      },
      "source": [
        "## 1. Install and import Required Libraries\n",
        "\n",
        "\n"
      ]
    },
    {
      "cell_type": "code",
      "execution_count": null,
      "metadata": {
        "colab": {
          "base_uri": "https://localhost:8080/"
        },
        "id": "2hPtmPGSXjw8",
        "outputId": "c6d65206-9e6f-4b92-8dc1-68d7becb1b9e"
      },
      "outputs": [
        {
          "name": "stdout",
          "output_type": "stream",
          "text": [
            "Mounted at /content/drive/\n"
          ]
        }
      ],
      "source": [
        "from google.colab import drive\n",
        "drive.mount('/content/drive/')"
      ]
    },
    {
      "cell_type": "code",
      "execution_count": null,
      "metadata": {
        "colab": {
          "base_uri": "https://localhost:8080/"
        },
        "id": "R6QPwMi7WvQr",
        "outputId": "c1ed6a99-0bcf-4416-d153-af851183744b"
      },
      "outputs": [
        {
          "name": "stdout",
          "output_type": "stream",
          "text": [
            "Looking in indexes: https://pypi.org/simple, https://us-python.pkg.dev/colab-wheels/public/simple/\n",
            "Collecting urduhack\n",
            "  Downloading urduhack-1.1.1-py3-none-any.whl (105 kB)\n",
            "\u001b[K     |████████████████████████████████| 105 kB 5.2 MB/s \n",
            "\u001b[?25hCollecting tensorflow-datasets~=3.1\n",
            "  Downloading tensorflow_datasets-3.2.1-py3-none-any.whl (3.4 MB)\n",
            "\u001b[K     |████████████████████████████████| 3.4 MB 35.9 MB/s \n",
            "\u001b[?25hRequirement already satisfied: regex in /usr/local/lib/python3.7/dist-packages (from urduhack) (2022.6.2)\n",
            "Collecting tf2crf\n",
            "  Downloading tf2crf-0.1.33-py2.py3-none-any.whl (7.3 kB)\n",
            "Requirement already satisfied: Click~=7.1 in /usr/local/lib/python3.7/dist-packages (from urduhack) (7.1.2)\n",
            "Requirement already satisfied: protobuf>=3.6.1 in /usr/local/lib/python3.7/dist-packages (from tensorflow-datasets~=3.1->urduhack) (3.17.3)\n",
            "Requirement already satisfied: six in /usr/local/lib/python3.7/dist-packages (from tensorflow-datasets~=3.1->urduhack) (1.15.0)\n",
            "Requirement already satisfied: termcolor in /usr/local/lib/python3.7/dist-packages (from tensorflow-datasets~=3.1->urduhack) (1.1.0)\n",
            "Requirement already satisfied: numpy in /usr/local/lib/python3.7/dist-packages (from tensorflow-datasets~=3.1->urduhack) (1.21.6)\n",
            "Requirement already satisfied: requests>=2.19.0 in /usr/local/lib/python3.7/dist-packages (from tensorflow-datasets~=3.1->urduhack) (2.23.0)\n",
            "Requirement already satisfied: tensorflow-metadata in /usr/local/lib/python3.7/dist-packages (from tensorflow-datasets~=3.1->urduhack) (1.8.0)\n",
            "Requirement already satisfied: promise in /usr/local/lib/python3.7/dist-packages (from tensorflow-datasets~=3.1->urduhack) (2.3)\n",
            "Requirement already satisfied: wrapt in /usr/local/lib/python3.7/dist-packages (from tensorflow-datasets~=3.1->urduhack) (1.14.1)\n",
            "Requirement already satisfied: future in /usr/local/lib/python3.7/dist-packages (from tensorflow-datasets~=3.1->urduhack) (0.16.0)\n",
            "Requirement already satisfied: absl-py in /usr/local/lib/python3.7/dist-packages (from tensorflow-datasets~=3.1->urduhack) (1.1.0)\n",
            "Requirement already satisfied: tqdm in /usr/local/lib/python3.7/dist-packages (from tensorflow-datasets~=3.1->urduhack) (4.64.0)\n",
            "Requirement already satisfied: dill in /usr/local/lib/python3.7/dist-packages (from tensorflow-datasets~=3.1->urduhack) (0.3.5.1)\n",
            "Requirement already satisfied: attrs>=18.1.0 in /usr/local/lib/python3.7/dist-packages (from tensorflow-datasets~=3.1->urduhack) (21.4.0)\n",
            "Requirement already satisfied: idna<3,>=2.5 in /usr/local/lib/python3.7/dist-packages (from requests>=2.19.0->tensorflow-datasets~=3.1->urduhack) (2.10)\n",
            "Requirement already satisfied: chardet<4,>=3.0.2 in /usr/local/lib/python3.7/dist-packages (from requests>=2.19.0->tensorflow-datasets~=3.1->urduhack) (3.0.4)\n",
            "Requirement already satisfied: certifi>=2017.4.17 in /usr/local/lib/python3.7/dist-packages (from requests>=2.19.0->tensorflow-datasets~=3.1->urduhack) (2022.6.15)\n",
            "Requirement already satisfied: urllib3!=1.25.0,!=1.25.1,<1.26,>=1.21.1 in /usr/local/lib/python3.7/dist-packages (from requests>=2.19.0->tensorflow-datasets~=3.1->urduhack) (1.24.3)\n",
            "Requirement already satisfied: googleapis-common-protos<2,>=1.52.0 in /usr/local/lib/python3.7/dist-packages (from tensorflow-metadata->tensorflow-datasets~=3.1->urduhack) (1.56.2)\n",
            "Collecting tensorflow-addons>=0.8.2\n",
            "  Downloading tensorflow_addons-0.17.1-cp37-cp37m-manylinux_2_17_x86_64.manylinux2014_x86_64.whl (1.1 MB)\n",
            "\u001b[K     |████████████████████████████████| 1.1 MB 70.1 MB/s \n",
            "\u001b[?25hRequirement already satisfied: tensorflow>=2.1.0 in /usr/local/lib/python3.7/dist-packages (from tf2crf->urduhack) (2.8.2+zzzcolab20220527125636)\n",
            "Requirement already satisfied: opt-einsum>=2.3.2 in /usr/local/lib/python3.7/dist-packages (from tensorflow>=2.1.0->tf2crf->urduhack) (3.3.0)\n",
            "Requirement already satisfied: gast>=0.2.1 in /usr/local/lib/python3.7/dist-packages (from tensorflow>=2.1.0->tf2crf->urduhack) (0.5.3)\n",
            "Requirement already satisfied: astunparse>=1.6.0 in /usr/local/lib/python3.7/dist-packages (from tensorflow>=2.1.0->tf2crf->urduhack) (1.6.3)\n",
            "Requirement already satisfied: tensorflow-io-gcs-filesystem>=0.23.1 in /usr/local/lib/python3.7/dist-packages (from tensorflow>=2.1.0->tf2crf->urduhack) (0.26.0)\n",
            "Requirement already satisfied: libclang>=9.0.1 in /usr/local/lib/python3.7/dist-packages (from tensorflow>=2.1.0->tf2crf->urduhack) (14.0.1)\n",
            "Requirement already satisfied: flatbuffers>=1.12 in /usr/local/lib/python3.7/dist-packages (from tensorflow>=2.1.0->tf2crf->urduhack) (2.0)\n",
            "Requirement already satisfied: tensorboard<2.9,>=2.8 in /usr/local/lib/python3.7/dist-packages (from tensorflow>=2.1.0->tf2crf->urduhack) (2.8.0)\n",
            "Requirement already satisfied: h5py>=2.9.0 in /usr/local/lib/python3.7/dist-packages (from tensorflow>=2.1.0->tf2crf->urduhack) (3.1.0)\n",
            "Requirement already satisfied: keras<2.9,>=2.8.0rc0 in /usr/local/lib/python3.7/dist-packages (from tensorflow>=2.1.0->tf2crf->urduhack) (2.8.0)\n",
            "Requirement already satisfied: google-pasta>=0.1.1 in /usr/local/lib/python3.7/dist-packages (from tensorflow>=2.1.0->tf2crf->urduhack) (0.2.0)\n",
            "Requirement already satisfied: keras-preprocessing>=1.1.1 in /usr/local/lib/python3.7/dist-packages (from tensorflow>=2.1.0->tf2crf->urduhack) (1.1.2)\n",
            "Requirement already satisfied: grpcio<2.0,>=1.24.3 in /usr/local/lib/python3.7/dist-packages (from tensorflow>=2.1.0->tf2crf->urduhack) (1.46.3)\n",
            "Requirement already satisfied: setuptools in /usr/local/lib/python3.7/dist-packages (from tensorflow>=2.1.0->tf2crf->urduhack) (57.4.0)\n",
            "Requirement already satisfied: tensorflow-estimator<2.9,>=2.8 in /usr/local/lib/python3.7/dist-packages (from tensorflow>=2.1.0->tf2crf->urduhack) (2.8.0)\n",
            "Requirement already satisfied: typing-extensions>=3.6.6 in /usr/local/lib/python3.7/dist-packages (from tensorflow>=2.1.0->tf2crf->urduhack) (4.1.1)\n",
            "Requirement already satisfied: wheel<1.0,>=0.23.0 in /usr/local/lib/python3.7/dist-packages (from astunparse>=1.6.0->tensorflow>=2.1.0->tf2crf->urduhack) (0.37.1)\n",
            "Requirement already satisfied: cached-property in /usr/local/lib/python3.7/dist-packages (from h5py>=2.9.0->tensorflow>=2.1.0->tf2crf->urduhack) (1.5.2)\n",
            "Requirement already satisfied: google-auth-oauthlib<0.5,>=0.4.1 in /usr/local/lib/python3.7/dist-packages (from tensorboard<2.9,>=2.8->tensorflow>=2.1.0->tf2crf->urduhack) (0.4.6)\n",
            "Requirement already satisfied: tensorboard-plugin-wit>=1.6.0 in /usr/local/lib/python3.7/dist-packages (from tensorboard<2.9,>=2.8->tensorflow>=2.1.0->tf2crf->urduhack) (1.8.1)\n",
            "Requirement already satisfied: google-auth<3,>=1.6.3 in /usr/local/lib/python3.7/dist-packages (from tensorboard<2.9,>=2.8->tensorflow>=2.1.0->tf2crf->urduhack) (1.35.0)\n",
            "Requirement already satisfied: werkzeug>=0.11.15 in /usr/local/lib/python3.7/dist-packages (from tensorboard<2.9,>=2.8->tensorflow>=2.1.0->tf2crf->urduhack) (1.0.1)\n",
            "Requirement already satisfied: tensorboard-data-server<0.7.0,>=0.6.0 in /usr/local/lib/python3.7/dist-packages (from tensorboard<2.9,>=2.8->tensorflow>=2.1.0->tf2crf->urduhack) (0.6.1)\n",
            "Requirement already satisfied: markdown>=2.6.8 in /usr/local/lib/python3.7/dist-packages (from tensorboard<2.9,>=2.8->tensorflow>=2.1.0->tf2crf->urduhack) (3.3.7)\n",
            "Requirement already satisfied: rsa<5,>=3.1.4 in /usr/local/lib/python3.7/dist-packages (from google-auth<3,>=1.6.3->tensorboard<2.9,>=2.8->tensorflow>=2.1.0->tf2crf->urduhack) (4.8)\n",
            "Requirement already satisfied: pyasn1-modules>=0.2.1 in /usr/local/lib/python3.7/dist-packages (from google-auth<3,>=1.6.3->tensorboard<2.9,>=2.8->tensorflow>=2.1.0->tf2crf->urduhack) (0.2.8)\n",
            "Requirement already satisfied: cachetools<5.0,>=2.0.0 in /usr/local/lib/python3.7/dist-packages (from google-auth<3,>=1.6.3->tensorboard<2.9,>=2.8->tensorflow>=2.1.0->tf2crf->urduhack) (4.2.4)\n",
            "Requirement already satisfied: requests-oauthlib>=0.7.0 in /usr/local/lib/python3.7/dist-packages (from google-auth-oauthlib<0.5,>=0.4.1->tensorboard<2.9,>=2.8->tensorflow>=2.1.0->tf2crf->urduhack) (1.3.1)\n",
            "Requirement already satisfied: importlib-metadata>=4.4 in /usr/local/lib/python3.7/dist-packages (from markdown>=2.6.8->tensorboard<2.9,>=2.8->tensorflow>=2.1.0->tf2crf->urduhack) (4.11.4)\n",
            "Requirement already satisfied: zipp>=0.5 in /usr/local/lib/python3.7/dist-packages (from importlib-metadata>=4.4->markdown>=2.6.8->tensorboard<2.9,>=2.8->tensorflow>=2.1.0->tf2crf->urduhack) (3.8.0)\n",
            "Requirement already satisfied: pyasn1<0.5.0,>=0.4.6 in /usr/local/lib/python3.7/dist-packages (from pyasn1-modules>=0.2.1->google-auth<3,>=1.6.3->tensorboard<2.9,>=2.8->tensorflow>=2.1.0->tf2crf->urduhack) (0.4.8)\n",
            "Requirement already satisfied: oauthlib>=3.0.0 in /usr/local/lib/python3.7/dist-packages (from requests-oauthlib>=0.7.0->google-auth-oauthlib<0.5,>=0.4.1->tensorboard<2.9,>=2.8->tensorflow>=2.1.0->tf2crf->urduhack) (3.2.0)\n",
            "Requirement already satisfied: packaging in /usr/local/lib/python3.7/dist-packages (from tensorflow-addons>=0.8.2->tf2crf->urduhack) (21.3)\n",
            "Requirement already satisfied: typeguard>=2.7 in /usr/local/lib/python3.7/dist-packages (from tensorflow-addons>=0.8.2->tf2crf->urduhack) (2.7.1)\n",
            "Requirement already satisfied: pyparsing!=3.0.5,>=2.0.2 in /usr/local/lib/python3.7/dist-packages (from packaging->tensorflow-addons>=0.8.2->tf2crf->urduhack) (3.0.9)\n",
            "Installing collected packages: tensorflow-addons, tf2crf, tensorflow-datasets, urduhack\n",
            "  Attempting uninstall: tensorflow-datasets\n",
            "    Found existing installation: tensorflow-datasets 4.0.1\n",
            "    Uninstalling tensorflow-datasets-4.0.1:\n",
            "      Successfully uninstalled tensorflow-datasets-4.0.1\n",
            "Successfully installed tensorflow-addons-0.17.1 tensorflow-datasets-3.2.1 tf2crf-0.1.33 urduhack-1.1.1\n"
          ]
        }
      ],
      "source": [
        "!pip install urduhack"
      ]
    },
    {
      "cell_type": "code",
      "execution_count": null,
      "metadata": {
        "id": "vcCl5NeIWvQv"
      },
      "outputs": [],
      "source": [
        "import pandas as pd\n",
        "import numpy as np\n",
        "\n",
        "# Import Plotting Libararies\n",
        "import seaborn as sns\n",
        "import matplotlib.pyplot as plt\n",
        "\n",
        "# Import Data Preprocessing Libraries \n",
        "from sklearn.preprocessing import LabelEncoder\n",
        "from sklearn.model_selection import train_test_split\n",
        "from sklearn.feature_extraction.text import TfidfVectorizer\n",
        "\n",
        "# Machine Learning Models (RF, NB, SVM, AdaBoost, MLP, LR)\n",
        "from sklearn import svm  \n",
        "from sklearn.naive_bayes import GaussianNB\n",
        "from sklearn.linear_model import LogisticRegression\n",
        "from sklearn.neural_network import MLPClassifier\n",
        "from sklearn.ensemble import RandomForestClassifier\n",
        "from sklearn.ensemble import AdaBoostClassifier\n",
        "\n",
        "\n",
        "# Model Evaluation Libraries\n",
        "from sklearn.metrics import classification_report, confusion_matrix"
      ]
    },
    {
      "cell_type": "code",
      "execution_count": null,
      "metadata": {
        "colab": {
          "base_uri": "https://localhost:8080/"
        },
        "id": "YZZv7U7zWvQx",
        "outputId": "3a3f2170-8f22-422d-a0d2-fa2688ca909e"
      },
      "outputs": [
        {
          "name": "stdout",
          "output_type": "stream",
          "text": [
            "Downloading data from https://github.com/urduhack/resources/releases/download/word_tokenizer/word_tokenizer.zip\n",
            "36790272/36788015 [==============================] - 1s 0us/step\n",
            "36798464/36788015 [==============================] - 1s 0us/step\n",
            "Downloading data from https://github.com/urduhack/resources/releases/download/pos_tagger/pos_tagger.zip\n",
            "2768896/2761433 [==============================] - 0s 0us/step\n",
            "2777088/2761433 [==============================] - 0s 0us/step\n",
            "Downloading data from https://github.com/urduhack/resources/releases/download/ner/ner.zip\n",
            "11730944/11723346 [==============================] - 0s 0us/step\n",
            "11739136/11723346 [==============================] - 0s 0us/step\n",
            "Downloading data from https://github.com/urduhack/resources/releases/download/lemmatizer/ur_lemma_lookup.zip\n",
            "90112/89078 [==============================] - 0s 0us/step\n",
            "98304/89078 [=================================] - 0s 0us/step\n"
          ]
        }
      ],
      "source": [
        "import urduhack\n",
        "urduhack.download()\n",
        "from urduhack.normalization import normalize\n",
        "from urduhack.preprocessing import normalize_whitespace, remove_punctuation, remove_accents, replace_urls, replace_emails, replace_numbers, replace_currency_symbols, remove_english_alphabets"
      ]
    },
    {
      "cell_type": "markdown",
      "metadata": {
        "id": "gFYyT7fOWvQx"
      },
      "source": [
        "## 2. Load Dataset\n",
        "Dataset is available in 2 different csv files named as train and test:\n"
      ]
    },
    {
      "cell_type": "code",
      "execution_count": null,
      "metadata": {
        "colab": {
          "base_uri": "https://localhost:8080/"
        },
        "id": "TQmLNX29vRFQ",
        "outputId": "59e25e56-800f-4417-fed8-e42f301093ef"
      },
      "outputs": [
        {
          "name": "stdout",
          "output_type": "stream",
          "text": [
            "Looking in indexes: https://pypi.org/simple, https://us-python.pkg.dev/colab-wheels/public/simple/\n",
            "Collecting xlrd==1.2.0\n",
            "  Downloading xlrd-1.2.0-py2.py3-none-any.whl (103 kB)\n",
            "\u001b[?25l\r\u001b[K     |███▏                            | 10 kB 32.8 MB/s eta 0:00:01\r\u001b[K     |██████▍                         | 20 kB 21.2 MB/s eta 0:00:01\r\u001b[K     |█████████▌                      | 30 kB 10.6 MB/s eta 0:00:01\r\u001b[K     |████████████▊                   | 40 kB 8.4 MB/s eta 0:00:01\r\u001b[K     |███████████████▉                | 51 kB 4.5 MB/s eta 0:00:01\r\u001b[K     |███████████████████             | 61 kB 5.3 MB/s eta 0:00:01\r\u001b[K     |██████████████████████▏         | 71 kB 5.3 MB/s eta 0:00:01\r\u001b[K     |█████████████████████████▍      | 81 kB 5.4 MB/s eta 0:00:01\r\u001b[K     |████████████████████████████▋   | 92 kB 6.0 MB/s eta 0:00:01\r\u001b[K     |███████████████████████████████▊| 102 kB 6.6 MB/s eta 0:00:01\r\u001b[K     |████████████████████████████████| 103 kB 6.6 MB/s \n",
            "\u001b[?25hInstalling collected packages: xlrd\n",
            "  Attempting uninstall: xlrd\n",
            "    Found existing installation: xlrd 1.1.0\n",
            "    Uninstalling xlrd-1.1.0:\n",
            "      Successfully uninstalled xlrd-1.1.0\n",
            "Successfully installed xlrd-1.2.0\n"
          ]
        }
      ],
      "source": [
        "!pip install xlrd==1.2.0\n"
      ]
    },
    {
      "cell_type": "code",
      "execution_count": null,
      "metadata": {
        "id": "U19mLv7RWvQy"
      },
      "outputs": [],
      "source": [
        "\n",
        "#filename = \"/content/drive/My Drive/Thesis1/reviews.xls\"\n",
        "\n",
        "#all_dfs = pd.read_excel(filename, sheet_name=None)\n",
        "#df = pd.concat(all_dfs, ignore_index=True)\n",
        "\n",
        "\n",
        "df1 = pd.read_excel(\"/content/drive/My Drive/Thesis_Final/kfold/1fold_aug.xlsx\")\n",
        "df2 = pd.read_excel(\"/content/drive/My Drive/Thesis_Final/kfold/2fold_aug.xlsx\")\n",
        "df3 = pd.read_excel(\"/content/drive/My Drive/Thesis_Final/kfold/3fold_aug.xlsx\")\n",
        "df4 = pd.read_excel(\"/content/drive/My Drive/Thesis_Final/kfold/4fold_aug.xlsx\")\n",
        "df5 = pd.read_excel(\"/content/drive/My Drive/Thesis_Final/kfold/5fold_aug.xlsx\")\n",
        "df6 = pd.read_excel(\"/content/drive/My Drive/Thesis_Final/kfold/6fold_aug.xlsx\")\n",
        "df7 = pd.read_excel(\"/content/drive/My Drive/Thesis_Final/kfold/7fold_aug.xlsx\")\n",
        "df8 = pd.read_excel(\"/content/drive/My Drive/Thesis_Final/kfold/8fold_aug.xlsx\")\n",
        "df9 = pd.read_excel(\"/content/drive/My Drive/Thesis_Final/kfold/9fold_aug.xlsx\")\n",
        "df10 = pd.read_excel(\"/content/drive/My Drive/Thesis_Final/kfold/10fold_aug.xlsx\")\n",
        "\n"
      ]
    },
    {
      "cell_type": "code",
      "execution_count": null,
      "metadata": {
        "colab": {
          "base_uri": "https://localhost:8080/"
        },
        "id": "jQ2ugPbBWvQz",
        "outputId": "16d6611e-ab29-4f56-eb5b-35524a2b9942"
      },
      "outputs": [
        {
          "name": "stdout",
          "output_type": "stream",
          "text": [
            "(20095, 4)\n"
          ]
        }
      ],
      "source": [
        "df = pd.concat([df1,df2,df3,df4,df5,df6,df7,df8,df9,df10]) \n",
        "print(df.shape)\n"
      ]
    },
    {
      "cell_type": "markdown",
      "metadata": {
        "id": "H5YfmWT9WvQ1"
      },
      "source": [
        ""
      ]
    },
    {
      "cell_type": "markdown",
      "metadata": {
        "id": "qCDl3w-OWvQ5"
      },
      "source": [
        "## 3. Data Preprocessing"
      ]
    },
    {
      "cell_type": "markdown",
      "metadata": {
        "id": "F8LqnoYAWvQ7"
      },
      "source": [
        "### 3.1 Apply  preprocessing\n"
      ]
    },
    {
      "cell_type": "code",
      "execution_count": null,
      "metadata": {
        "colab": {
          "base_uri": "https://localhost:8080/",
          "height": 359
        },
        "id": "Jt-gGbc9WvRA",
        "outputId": "d0569ee7-e8f9-4840-f717-15068eccdc7b"
      },
      "outputs": [
        {
          "data": {
            "text/html": [
              "\n",
              "  <div id=\"df-3fa1e405-0404-454d-936b-3100a19ae744\">\n",
              "    <div class=\"colab-df-container\">\n",
              "      <div>\n",
              "<style scoped>\n",
              "    .dataframe tbody tr th:only-of-type {\n",
              "        vertical-align: middle;\n",
              "    }\n",
              "\n",
              "    .dataframe tbody tr th {\n",
              "        vertical-align: top;\n",
              "    }\n",
              "\n",
              "    .dataframe thead th {\n",
              "        text-align: right;\n",
              "    }\n",
              "</style>\n",
              "<table border=\"1\" class=\"dataframe\">\n",
              "  <thead>\n",
              "    <tr style=\"text-align: right;\">\n",
              "      <th></th>\n",
              "      <th>Text</th>\n",
              "    </tr>\n",
              "  </thead>\n",
              "  <tbody>\n",
              "    <tr>\n",
              "      <th>0</th>\n",
              "      <td>ہا ہا ہا ہا لیکن ایک تھی ڈائن پھر بھی عاشقی ٹو...</td>\n",
              "    </tr>\n",
              "    <tr>\n",
              "      <th>1</th>\n",
              "      <td>حضور ٹاک شوز پر بڈی ڈال کر مھمانو ں کو کتوں کی...</td>\n",
              "    </tr>\n",
              "    <tr>\n",
              "      <th>2</th>\n",
              "      <td>پھر تو ایسے برے لوگ بہت بڑی تعداد میں ہیں یہاں</td>\n",
              "    </tr>\n",
              "    <tr>\n",
              "      <th>3</th>\n",
              "      <td>عذاب</td>\n",
              "    </tr>\n",
              "    <tr>\n",
              "      <th>4</th>\n",
              "      <td>جنات پر شک کرو تو اسلام کی بجلی اتنی زور سے کڑ...</td>\n",
              "    </tr>\n",
              "    <tr>\n",
              "      <th>5</th>\n",
              "      <td>جو کڑی شڑی پاکستان اور پاکستانی معاشرے کی رج ک...</td>\n",
              "    </tr>\n",
              "    <tr>\n",
              "      <th>6</th>\n",
              "      <td>مگر میں تو بتا چکی پہلے سے کہ مجھے اردو انڈین ...</td>\n",
              "    </tr>\n",
              "    <tr>\n",
              "      <th>7</th>\n",
              "      <td>حقیقت میں شاید میں ہی محفل پر مغرب کے سب سے زی...</td>\n",
              "    </tr>\n",
              "    <tr>\n",
              "      <th>8</th>\n",
              "      <td>یخخ گندے</td>\n",
              "    </tr>\n",
              "    <tr>\n",
              "      <th>9</th>\n",
              "      <td>اب پتا چلا کہ پاکستانی مرد بیویوں کے نیچے ایسے...</td>\n",
              "    </tr>\n",
              "  </tbody>\n",
              "</table>\n",
              "</div>\n",
              "      <button class=\"colab-df-convert\" onclick=\"convertToInteractive('df-3fa1e405-0404-454d-936b-3100a19ae744')\"\n",
              "              title=\"Convert this dataframe to an interactive table.\"\n",
              "              style=\"display:none;\">\n",
              "        \n",
              "  <svg xmlns=\"http://www.w3.org/2000/svg\" height=\"24px\"viewBox=\"0 0 24 24\"\n",
              "       width=\"24px\">\n",
              "    <path d=\"M0 0h24v24H0V0z\" fill=\"none\"/>\n",
              "    <path d=\"M18.56 5.44l.94 2.06.94-2.06 2.06-.94-2.06-.94-.94-2.06-.94 2.06-2.06.94zm-11 1L8.5 8.5l.94-2.06 2.06-.94-2.06-.94L8.5 2.5l-.94 2.06-2.06.94zm10 10l.94 2.06.94-2.06 2.06-.94-2.06-.94-.94-2.06-.94 2.06-2.06.94z\"/><path d=\"M17.41 7.96l-1.37-1.37c-.4-.4-.92-.59-1.43-.59-.52 0-1.04.2-1.43.59L10.3 9.45l-7.72 7.72c-.78.78-.78 2.05 0 2.83L4 21.41c.39.39.9.59 1.41.59.51 0 1.02-.2 1.41-.59l7.78-7.78 2.81-2.81c.8-.78.8-2.07 0-2.86zM5.41 20L4 18.59l7.72-7.72 1.47 1.35L5.41 20z\"/>\n",
              "  </svg>\n",
              "      </button>\n",
              "      \n",
              "  <style>\n",
              "    .colab-df-container {\n",
              "      display:flex;\n",
              "      flex-wrap:wrap;\n",
              "      gap: 12px;\n",
              "    }\n",
              "\n",
              "    .colab-df-convert {\n",
              "      background-color: #E8F0FE;\n",
              "      border: none;\n",
              "      border-radius: 50%;\n",
              "      cursor: pointer;\n",
              "      display: none;\n",
              "      fill: #1967D2;\n",
              "      height: 32px;\n",
              "      padding: 0 0 0 0;\n",
              "      width: 32px;\n",
              "    }\n",
              "\n",
              "    .colab-df-convert:hover {\n",
              "      background-color: #E2EBFA;\n",
              "      box-shadow: 0px 1px 2px rgba(60, 64, 67, 0.3), 0px 1px 3px 1px rgba(60, 64, 67, 0.15);\n",
              "      fill: #174EA6;\n",
              "    }\n",
              "\n",
              "    [theme=dark] .colab-df-convert {\n",
              "      background-color: #3B4455;\n",
              "      fill: #D2E3FC;\n",
              "    }\n",
              "\n",
              "    [theme=dark] .colab-df-convert:hover {\n",
              "      background-color: #434B5C;\n",
              "      box-shadow: 0px 1px 3px 1px rgba(0, 0, 0, 0.15);\n",
              "      filter: drop-shadow(0px 1px 2px rgba(0, 0, 0, 0.3));\n",
              "      fill: #FFFFFF;\n",
              "    }\n",
              "  </style>\n",
              "\n",
              "      <script>\n",
              "        const buttonEl =\n",
              "          document.querySelector('#df-3fa1e405-0404-454d-936b-3100a19ae744 button.colab-df-convert');\n",
              "        buttonEl.style.display =\n",
              "          google.colab.kernel.accessAllowed ? 'block' : 'none';\n",
              "\n",
              "        async function convertToInteractive(key) {\n",
              "          const element = document.querySelector('#df-3fa1e405-0404-454d-936b-3100a19ae744');\n",
              "          const dataTable =\n",
              "            await google.colab.kernel.invokeFunction('convertToInteractive',\n",
              "                                                     [key], {});\n",
              "          if (!dataTable) return;\n",
              "\n",
              "          const docLinkHtml = 'Like what you see? Visit the ' +\n",
              "            '<a target=\"_blank\" href=https://colab.research.google.com/notebooks/data_table.ipynb>data table notebook</a>'\n",
              "            + ' to learn more about interactive tables.';\n",
              "          element.innerHTML = '';\n",
              "          dataTable['output_type'] = 'display_data';\n",
              "          await google.colab.output.renderOutput(dataTable, element);\n",
              "          const docLink = document.createElement('div');\n",
              "          docLink.innerHTML = docLinkHtml;\n",
              "          element.appendChild(docLink);\n",
              "        }\n",
              "      </script>\n",
              "    </div>\n",
              "  </div>\n",
              "  "
            ],
            "text/plain": [
              "                                                Text\n",
              "0  ہا ہا ہا ہا لیکن ایک تھی ڈائن پھر بھی عاشقی ٹو...\n",
              "1  حضور ٹاک شوز پر بڈی ڈال کر مھمانو ں کو کتوں کی...\n",
              "2    پھر تو ایسے برے لوگ بہت بڑی تعداد میں ہیں یہاں \n",
              "3                                              عذاب \n",
              "4  جنات پر شک کرو تو اسلام کی بجلی اتنی زور سے کڑ...\n",
              "5  جو کڑی شڑی پاکستان اور پاکستانی معاشرے کی رج ک...\n",
              "6  مگر میں تو بتا چکی پہلے سے کہ مجھے اردو انڈین ...\n",
              "7  حقیقت میں شاید میں ہی محفل پر مغرب کے سب سے زی...\n",
              "8                                          یخخ گندے \n",
              "9  اب پتا چلا کہ پاکستانی مرد بیویوں کے نیچے ایسے..."
            ]
          },
          "execution_count": 8,
          "metadata": {},
          "output_type": "execute_result"
        }
      ],
      "source": [
        "df[['Text']].head(10)"
      ]
    },
    {
      "cell_type": "code",
      "execution_count": null,
      "metadata": {
        "colab": {
          "base_uri": "https://localhost:8080/",
          "height": 279
        },
        "id": "y2vqrmHb9Y49",
        "outputId": "ccea79cb-8d6d-4e38-d944-1999549c2bcf"
      },
      "outputs": [
        {
          "data": {
            "image/png": "[encoded data removed]",
            "text/plain": [
              "<Figure size 432x288 with 1 Axes>"
            ]
          },
          "metadata": {},
          "output_type": "display_data"
        }
      ],
      "source": [
        "sns.countplot( x = 'Label2', data = df );"
      ]
    },
    {
      "cell_type": "code",
      "execution_count": null,
      "metadata": {
        "id": "uu94uWtJuefL"
      },
      "outputs": [],
      "source": [
        "# create dataset\n",
        "df['Label2'] = df['Label2'].fillna(' ')"
      ]
    },
    {
      "cell_type": "code",
      "execution_count": null,
      "metadata": {
        "colab": {
          "base_uri": "https://localhost:8080/"
        },
        "id": "vL33twtBueih",
        "outputId": "218a858e-a1e8-4781-8c22-7b3d1de7b97b"
      },
      "outputs": [
        {
          "data": {
            "text/plain": [
              "(9983, 3)"
            ]
          },
          "execution_count": 11,
          "metadata": {},
          "output_type": "execute_result"
        }
      ],
      "source": [
        "#dfc.loc[(dfc['Annotator 3'] == \"pos\") or (dfc['Annotator 3'] == \"neg\")]\n",
        "def func(df_):\n",
        "    count_val = 559\n",
        "    return df_.iloc[0:count_val]\n",
        "#dfc = df[(df['Label2'] == \"CN\") | (df['Label2'] == \"FN\")  | (df['Label2'] == \"NEU\")  | (df['Label2'] == \"CP\") | (df['Label2'] == \"FP\") ]\n",
        "dfc = df[['Text', 'Label','Label2']] [(df['Label'] == \"pos\") | (df['Label'] == \"neg\")| (df['Label'] == \"neu\")]\n",
        "\n",
        "#dfc = dfc.groupby('Label2', group_keys=False).apply(func)\n",
        "dfc['Label2'] = dfc['Label2'].apply(np.int64)\n",
        "\n",
        "dfc.shape"
      ]
    },
    {
      "cell_type": "code",
      "execution_count": null,
      "metadata": {
        "colab": {
          "base_uri": "https://localhost:8080/",
          "height": 279
        },
        "id": "F4TYXUep_ci_",
        "outputId": "77c7317b-fefc-4c00-858b-0c79e217c701"
      },
      "outputs": [
        {
          "data": {
            "image/png": "[encoded data removed]",
            "text/plain": [
              "<Figure size 432x288 with 1 Axes>"
            ]
          },
          "metadata": {},
          "output_type": "display_data"
        }
      ],
      "source": [
        "df['Label2'] = df['Label2'].apply(np.int64)\n",
        "\n",
        "sns.countplot( x = 'Label2', data = df );"
      ]
    },
    {
      "cell_type": "code",
      "execution_count": null,
      "metadata": {
        "colab": {
          "base_uri": "https://localhost:8080/",
          "height": 204
        },
        "id": "OKzH_TCpTzWg",
        "outputId": "62eac0c7-6f94-48c7-b2f9-96d9ba42fd5b"
      },
      "outputs": [
        {
          "data": {
            "text/html": [
              "\n",
              "  <div id=\"df-59a2d9dd-3e60-4d4d-a553-1d698a35302b\">\n",
              "    <div class=\"colab-df-container\">\n",
              "      <div>\n",
              "<style scoped>\n",
              "    .dataframe tbody tr th:only-of-type {\n",
              "        vertical-align: middle;\n",
              "    }\n",
              "\n",
              "    .dataframe tbody tr th {\n",
              "        vertical-align: top;\n",
              "    }\n",
              "\n",
              "    .dataframe thead th {\n",
              "        text-align: right;\n",
              "    }\n",
              "</style>\n",
              "<table border=\"1\" class=\"dataframe\">\n",
              "  <thead>\n",
              "    <tr style=\"text-align: right;\">\n",
              "      <th></th>\n",
              "      <th>Text</th>\n",
              "      <th>Label</th>\n",
              "      <th>Label2</th>\n",
              "    </tr>\n",
              "  </thead>\n",
              "  <tbody>\n",
              "    <tr>\n",
              "      <th>0</th>\n",
              "      <td>ہا ہا ہا ہا لیکن ایک تھی ڈائن پھر بھی عاشقی ٹو...</td>\n",
              "      <td>neu</td>\n",
              "      <td>1</td>\n",
              "    </tr>\n",
              "    <tr>\n",
              "      <th>1</th>\n",
              "      <td>حضور ٹاک شوز پر بڈی ڈال کر مھمانو ں کو کتوں کی...</td>\n",
              "      <td>neu</td>\n",
              "      <td>1</td>\n",
              "    </tr>\n",
              "    <tr>\n",
              "      <th>2</th>\n",
              "      <td>پھر تو ایسے برے لوگ بہت بڑی تعداد میں ہیں یہاں</td>\n",
              "      <td>neg</td>\n",
              "      <td>1</td>\n",
              "    </tr>\n",
              "    <tr>\n",
              "      <th>3</th>\n",
              "      <td>عذاب</td>\n",
              "      <td>neg</td>\n",
              "      <td>1</td>\n",
              "    </tr>\n",
              "    <tr>\n",
              "      <th>4</th>\n",
              "      <td>جنات پر شک کرو تو اسلام کی بجلی اتنی زور سے کڑ...</td>\n",
              "      <td>neg</td>\n",
              "      <td>1</td>\n",
              "    </tr>\n",
              "  </tbody>\n",
              "</table>\n",
              "</div>\n",
              "      <button class=\"colab-df-convert\" onclick=\"convertToInteractive('df-59a2d9dd-3e60-4d4d-a553-1d698a35302b')\"\n",
              "              title=\"Convert this dataframe to an interactive table.\"\n",
              "              style=\"display:none;\">\n",
              "        \n",
              "  <svg xmlns=\"http://www.w3.org/2000/svg\" height=\"24px\"viewBox=\"0 0 24 24\"\n",
              "       width=\"24px\">\n",
              "    <path d=\"M0 0h24v24H0V0z\" fill=\"none\"/>\n",
              "    <path d=\"M18.56 5.44l.94 2.06.94-2.06 2.06-.94-2.06-.94-.94-2.06-.94 2.06-2.06.94zm-11 1L8.5 8.5l.94-2.06 2.06-.94-2.06-.94L8.5 2.5l-.94 2.06-2.06.94zm10 10l.94 2.06.94-2.06 2.06-.94-2.06-.94-.94-2.06-.94 2.06-2.06.94z\"/><path d=\"M17.41 7.96l-1.37-1.37c-.4-.4-.92-.59-1.43-.59-.52 0-1.04.2-1.43.59L10.3 9.45l-7.72 7.72c-.78.78-.78 2.05 0 2.83L4 21.41c.39.39.9.59 1.41.59.51 0 1.02-.2 1.41-.59l7.78-7.78 2.81-2.81c.8-.78.8-2.07 0-2.86zM5.41 20L4 18.59l7.72-7.72 1.47 1.35L5.41 20z\"/>\n",
              "  </svg>\n",
              "      </button>\n",
              "      \n",
              "  <style>\n",
              "    .colab-df-container {\n",
              "      display:flex;\n",
              "      flex-wrap:wrap;\n",
              "      gap: 12px;\n",
              "    }\n",
              "\n",
              "    .colab-df-convert {\n",
              "      background-color: #E8F0FE;\n",
              "      border: none;\n",
              "      border-radius: 50%;\n",
              "      cursor: pointer;\n",
              "      display: none;\n",
              "      fill: #1967D2;\n",
              "      height: 32px;\n",
              "      padding: 0 0 0 0;\n",
              "      width: 32px;\n",
              "    }\n",
              "\n",
              "    .colab-df-convert:hover {\n",
              "      background-color: #E2EBFA;\n",
              "      box-shadow: 0px 1px 2px rgba(60, 64, 67, 0.3), 0px 1px 3px 1px rgba(60, 64, 67, 0.15);\n",
              "      fill: #174EA6;\n",
              "    }\n",
              "\n",
              "    [theme=dark] .colab-df-convert {\n",
              "      background-color: #3B4455;\n",
              "      fill: #D2E3FC;\n",
              "    }\n",
              "\n",
              "    [theme=dark] .colab-df-convert:hover {\n",
              "      background-color: #434B5C;\n",
              "      box-shadow: 0px 1px 3px 1px rgba(0, 0, 0, 0.15);\n",
              "      filter: drop-shadow(0px 1px 2px rgba(0, 0, 0, 0.3));\n",
              "      fill: #FFFFFF;\n",
              "    }\n",
              "  </style>\n",
              "\n",
              "      <script>\n",
              "        const buttonEl =\n",
              "          document.querySelector('#df-59a2d9dd-3e60-4d4d-a553-1d698a35302b button.colab-df-convert');\n",
              "        buttonEl.style.display =\n",
              "          google.colab.kernel.accessAllowed ? 'block' : 'none';\n",
              "\n",
              "        async function convertToInteractive(key) {\n",
              "          const element = document.querySelector('#df-59a2d9dd-3e60-4d4d-a553-1d698a35302b');\n",
              "          const dataTable =\n",
              "            await google.colab.kernel.invokeFunction('convertToInteractive',\n",
              "                                                     [key], {});\n",
              "          if (!dataTable) return;\n",
              "\n",
              "          const docLinkHtml = 'Like what you see? Visit the ' +\n",
              "            '<a target=\"_blank\" href=https://colab.research.google.com/notebooks/data_table.ipynb>data table notebook</a>'\n",
              "            + ' to learn more about interactive tables.';\n",
              "          element.innerHTML = '';\n",
              "          dataTable['output_type'] = 'display_data';\n",
              "          await google.colab.output.renderOutput(dataTable, element);\n",
              "          const docLink = document.createElement('div');\n",
              "          docLink.innerHTML = docLinkHtml;\n",
              "          element.appendChild(docLink);\n",
              "        }\n",
              "      </script>\n",
              "    </div>\n",
              "  </div>\n",
              "  "
            ],
            "text/plain": [
              "                                                Text Label  Label2\n",
              "0  ہا ہا ہا ہا لیکن ایک تھی ڈائن پھر بھی عاشقی ٹو...   neu       1\n",
              "1  حضور ٹاک شوز پر بڈی ڈال کر مھمانو ں کو کتوں کی...   neu       1\n",
              "2    پھر تو ایسے برے لوگ بہت بڑی تعداد میں ہیں یہاں    neg       1\n",
              "3                                              عذاب    neg       1\n",
              "4  جنات پر شک کرو تو اسلام کی بجلی اتنی زور سے کڑ...   neg       1"
            ]
          },
          "execution_count": 13,
          "metadata": {},
          "output_type": "execute_result"
        }
      ],
      "source": [
        "dfc.head()"
      ]
    },
    {
      "cell_type": "code",
      "execution_count": null,
      "metadata": {
        "colab": {
          "base_uri": "https://localhost:8080/"
        },
        "id": "vJJBIVKRu7OA",
        "outputId": "4d265514-80d2-44a4-ed41-f85711db8f2d"
      },
      "outputs": [
        {
          "data": {
            "text/plain": [
              "array([1, 5, 2, 4, 3])"
            ]
          },
          "execution_count": 14,
          "metadata": {},
          "output_type": "execute_result"
        }
      ],
      "source": [
        "# Encode labels in column 'species'.\n",
        "#cust_label = {'CN' : 1, 'FN' : 2, 'NEU' : 3, 'FP': 4, 'CP' : 5 }\n",
        "\n",
        "#dfc['Labelf'] = dfc['Label2'].map(cust_label)\n",
        "#dfc['Label2']= LabelEncoder().fit_transform(dfc['Label2'])\n",
        "dfc['Labelf'] = dfc['Label2'].copy()\n",
        "dfc['Labelf'].unique()\n"
      ]
    },
    {
      "cell_type": "code",
      "execution_count": null,
      "metadata": {
        "colab": {
          "base_uri": "https://localhost:8080/",
          "height": 279
        },
        "id": "m5eeX9abuemZ",
        "outputId": "b1226b9c-8984-41e2-f2d3-d6182ecf0ffd"
      },
      "outputs": [
        {
          "data": {
            "image/png": "[encoded data removed]",
            "text/plain": [
              "<Figure size 432x288 with 1 Axes>"
            ]
          },
          "metadata": {},
          "output_type": "display_data"
        }
      ],
      "source": [
        "sns.countplot( x = 'Labelf', data = dfc );"
      ]
    },
    {
      "cell_type": "code",
      "execution_count": null,
      "metadata": {
        "colab": {
          "base_uri": "https://localhost:8080/"
        },
        "id": "J5GCjrBceeLn",
        "outputId": "96260a6f-da79-4579-8e6f-9698ef014b2a"
      },
      "outputs": [
        {
          "data": {
            "text/plain": [
              "3    4019\n",
              "5    2775\n",
              "2    1821\n",
              "4     728\n",
              "1     640\n",
              "Name: Label2, dtype: int64"
            ]
          },
          "execution_count": 16,
          "metadata": {},
          "output_type": "execute_result"
        }
      ],
      "source": [
        "#dfc['Labelf'].value_counts()\n",
        "dfc['Label2'].value_counts()"
      ]
    },
    {
      "cell_type": "code",
      "execution_count": null,
      "metadata": {
        "id": "oYvygwGKVnr8"
      },
      "outputs": [],
      "source": [
        "dfc['Text2'] = str(dfc['Text'])\n",
        "dfc = dfc.astype({\"Text\": str}, errors='raise') \n",
        "\n"
      ]
    },
    {
      "cell_type": "code",
      "execution_count": null,
      "metadata": {
        "id": "c7KnxNosueoX"
      },
      "outputs": [],
      "source": [
        "dfc['Text'] = dfc['Text'].apply(normalize) # To normalize some text, all you need to do pass unicode text. It will return a str with normalized characters both single and combined, proper spaces after digits and punctuations and diacritics(Zabar - Paish) removed.\n",
        "dfc['Text'] = dfc['Text'].apply(remove_punctuation) # Remove punctuation from text by removing all instances of marks. marks=',;:'\n",
        "dfc['Text'] = dfc['Text'].apply(remove_accents) # Remove accents from any accented unicode characters in text str, either by transforming them into ascii equivalents or removing them entirely.\n",
        "dfc['Text'] = dfc['Text'].apply(replace_urls) # Replace all URLs in text str with replace_with str.\n",
        "dfc['Text'] = dfc['Text'].apply(replace_emails) # Replace all emails in text str with replace_with str.\n",
        "dfc['Text'] = dfc['Text'].apply(replace_numbers) # Replace all numbers in text str with replace_with str.\n",
        "dfc['Text'] = dfc['Text'].apply(replace_currency_symbols) # Replace all currency symbols in text str with string specified by replace_with str.\n",
        "dfc['Text'] = dfc['Text'].apply(remove_english_alphabets) # Removes English words and digits from a text\n",
        "dfc['Text'] = dfc['Text'].apply(normalize_whitespace) ## Given text str, replace one or more spacings with a single space, and one or more linebreaks with a single newline. Also strip leading/trailing whitespace."
      ]
    },
    {
      "cell_type": "code",
      "execution_count": null,
      "metadata": {
        "id": "EkDKl6jPuerW"
      },
      "outputs": [],
      "source": [
        "# Remove stop words from text\n",
        "from typing import FrozenSet\n",
        "\n",
        "# Urdu Language Stop words list\n",
        "STOP_WORDS: FrozenSet[str] = frozenset(\"\"\"\n",
        " آ آئی آئیں آئے آتا آتی آتے آس آمدید آنا آنسہ آنی آنے آپ آگے آہ آہا آیا اب ابھی ابے\n",
        " ارے اس اسکا اسکی اسکے اسی اسے اف افوہ البتہ الف ان اندر انکا انکی انکے انہوں انہی انہیں اوئے اور اوپر\n",
        " اوہو اپ اپنا اپنوں اپنی اپنے اپنےآپ اکثر اگر اگرچہ اہاہا ایسا ایسی ایسے ایک بائیں بار بارے بالکل باوجود باہر\n",
        " بج بجے بخیر بشرطیکہ بعد بعض بغیر بلکہ بن بنا بناؤ بند بڑی بھر بھریں بھی بہت بہتر تاکہ تاہم تب تجھ\n",
        " تجھی تجھے ترا تری تلک تم تمام تمہارا تمہاروں تمہاری تمہارے تمہیں تو تک تھا تھی تھیں تھے تیرا تیری تیرے\n",
        " جا جاؤ جائیں جائے جاتا جاتی جاتے جانی جانے جب جبکہ جدھر جس جسے جن جناب جنہوں جنہیں جو جہاں جی جیسا\n",
        " جیسوں جیسی جیسے حالانکہ حالاں حصہ حضرت خاطر خالی خواہ خوب خود دائیں درمیان دریں دو دوران دوسرا دوسروں دوسری دوں\n",
        " دکھائیں دی دیئے دیا دیتا دیتی دیتے دیر دینا دینی دینے دیکھو دیں دیے دے ذریعے رکھا رکھتا رکھتی رکھتے رکھنا رکھنی\n",
        " رکھنے رکھو رکھی رکھے رہ رہا رہتا رہتی رہتے رہنا رہنی رہنے رہو رہی رہیں رہے ساتھ سامنے ساڑھے سب سبھی\n",
        " سراسر سمیت سوا سوائے سکا سکتا سکتے سہ سہی سی سے شاید شکریہ صاحب صاحبہ صرف ضرور طرح طرف طور علاوہ عین\n",
        " فقط فلاں فی قبل قطا لئے لائی لائے لاتا لاتی لاتے لانا لانی لانے لایا لو لوجی لوگوں لگ لگا لگتا\n",
        " لگتی لگی لگیں لگے لہذا لی لیا لیتا لیتی لیتے لیکن لیں لیے لے ماسوا مت مجھ مجھی مجھے محترم محترمہ محض\n",
        " مرا مرحبا مری مرے مزید مس مسز مسٹر مطابق مل مکرمی مگر مگھر مہربانی میرا میروں میری میرے میں نا نزدیک\n",
        " نما نہ نہیں نیز نیچے نے و وار واسطے واقعی والا والوں والی والے واہ وجہ ورنہ وغیرہ ولے وگرنہ وہ وہاں\n",
        " وہی وہیں ویسا ویسے ویں پاس پایا پر پس پلیز پون پونی پونے پھر پہ پہلا پہلی پہلے پیر پیچھے چاہئے\n",
        " چاہتے چاہیئے چاہے چلا چلو چلیں چلے چناچہ چند چونکہ چکی چکیں چکے ڈالنا ڈالنی ڈالنے ڈالے کئے کا کاش کب کبھی\n",
        " کدھر کر کرتا کرتی کرتے کرم کرنا کرنے کرو کریں کرے کس کسی کسے کم کن کنہیں کو کوئی کون کونسا\n",
        " کونسے کچھ کہ کہا کہاں کہہ کہی کہیں کہے کی کیا کیسا کیسے کیونکر کیونکہ کیوں کیے کے گئی گئے گا گنا\n",
        " گو گویا گی گیا ہائیں ہائے ہاں ہر ہرچند ہرگز ہم ہمارا ہماری ہمارے ہمی ہمیں ہو ہوئی ہوئیں ہوئے ہوا\n",
        " ہوبہو ہوتا ہوتی ہوتیں ہوتے ہونا ہونگے ہونی ہونے ہوں ہی ہیلو ہیں ہے یا یات یعنی یک یہ یہاں یہی یہیں\n",
        "\"\"\".split())\n",
        "\n",
        "\n",
        "def remove_stopwords(text: str):\n",
        "    return \" \".join(word for word in text.split() if word not in STOP_WORDS)\n",
        "\n",
        "from urduhack.models.lemmatizer import lemmatizer\n",
        "def lemitizeStr(str):\n",
        "    lemme_str = \"\"\n",
        "    temp = lemmatizer.lemma_lookup(str)\n",
        "    for t in temp:\n",
        "        lemme_str += t[0] + \" \"\n",
        "    \n",
        "    return lemme_str"
      ]
    },
    {
      "cell_type": "code",
      "execution_count": null,
      "metadata": {
        "id": "-Ba6Zz80uevU"
      },
      "outputs": [],
      "source": [
        "#dfc['Tweets'] =  dfc['Tweets'].apply(remove_stopwords)"
      ]
    },
    {
      "cell_type": "code",
      "execution_count": null,
      "metadata": {
        "id": "OFtBat-KWvRB"
      },
      "outputs": [],
      "source": [
        "dfc['lemmatized_text'] = dfc['Text'].apply(lemitizeStr)"
      ]
    },
    {
      "cell_type": "code",
      "execution_count": null,
      "metadata": {
        "colab": {
          "base_uri": "https://localhost:8080/",
          "height": 359
        },
        "id": "oLqX6Fw3WvRB",
        "outputId": "2fdab228-d11c-45d3-cb7c-49b405f3ad54"
      },
      "outputs": [
        {
          "data": {
            "text/html": [
              "\n",
              "  <div id=\"df-5ad38d36-f78f-44d2-8770-cac437cce588\">\n",
              "    <div class=\"colab-df-container\">\n",
              "      <div>\n",
              "<style scoped>\n",
              "    .dataframe tbody tr th:only-of-type {\n",
              "        vertical-align: middle;\n",
              "    }\n",
              "\n",
              "    .dataframe tbody tr th {\n",
              "        vertical-align: top;\n",
              "    }\n",
              "\n",
              "    .dataframe thead th {\n",
              "        text-align: right;\n",
              "    }\n",
              "</style>\n",
              "<table border=\"1\" class=\"dataframe\">\n",
              "  <thead>\n",
              "    <tr style=\"text-align: right;\">\n",
              "      <th></th>\n",
              "      <th>Text</th>\n",
              "      <th>Label</th>\n",
              "      <th>Label2</th>\n",
              "      <th>Labelf</th>\n",
              "      <th>Text2</th>\n",
              "      <th>lemmatized_text</th>\n",
              "    </tr>\n",
              "  </thead>\n",
              "  <tbody>\n",
              "    <tr>\n",
              "      <th>0</th>\n",
              "      <td>ہا ہا ہا ہا لیکن ایک تھی ڈائن پھر بھی عاشقی ٹو...</td>\n",
              "      <td>neu</td>\n",
              "      <td>1</td>\n",
              "      <td>1</td>\n",
              "      <td>0       ہا ہا ہا ہا لیکن ایک تھی ڈائن پھر بھی ...</td>\n",
              "      <td>ہا ہا ہا ہا لیکن ایک تھی ڈائن پھر بھی عاشقی ٹو...</td>\n",
              "    </tr>\n",
              "    <tr>\n",
              "      <th>1</th>\n",
              "      <td>حضور ٹاک شوز پر بڈی ڈال کر مھمانو ں کو کتوں کی...</td>\n",
              "      <td>neu</td>\n",
              "      <td>1</td>\n",
              "      <td>1</td>\n",
              "      <td>0       ہا ہا ہا ہا لیکن ایک تھی ڈائن پھر بھی ...</td>\n",
              "      <td>حضور ٹاک شوز پر بڈی ڈال کر مھمانو ں کو کتوں کی...</td>\n",
              "    </tr>\n",
              "    <tr>\n",
              "      <th>2</th>\n",
              "      <td>پھر تو ایسے برے لوگ بہت بڑی تعداد میں ہیں یہاں</td>\n",
              "      <td>neg</td>\n",
              "      <td>1</td>\n",
              "      <td>1</td>\n",
              "      <td>0       ہا ہا ہا ہا لیکن ایک تھی ڈائن پھر بھی ...</td>\n",
              "      <td>پھر تو ایسے برے لوگ بہت بڑی تعداد میں ہیں یہاں</td>\n",
              "    </tr>\n",
              "    <tr>\n",
              "      <th>3</th>\n",
              "      <td>عذاب</td>\n",
              "      <td>neg</td>\n",
              "      <td>1</td>\n",
              "      <td>1</td>\n",
              "      <td>0       ہا ہا ہا ہا لیکن ایک تھی ڈائن پھر بھی ...</td>\n",
              "      <td>عذاب</td>\n",
              "    </tr>\n",
              "    <tr>\n",
              "      <th>4</th>\n",
              "      <td>جنات پر شک کرو تو اسلام کی بجلی اتنی زور سے کڑ...</td>\n",
              "      <td>neg</td>\n",
              "      <td>1</td>\n",
              "      <td>1</td>\n",
              "      <td>0       ہا ہا ہا ہا لیکن ایک تھی ڈائن پھر بھی ...</td>\n",
              "      <td>جنات پر شک کرو تو اسلام کی بجلی اتنی زور سے کڑ...</td>\n",
              "    </tr>\n",
              "    <tr>\n",
              "      <th>5</th>\n",
              "      <td>جو کڑی شڑی پاکستان اور پاکستانی معاشرے کی رج ک...</td>\n",
              "      <td>neg</td>\n",
              "      <td>1</td>\n",
              "      <td>1</td>\n",
              "      <td>0       ہا ہا ہا ہا لیکن ایک تھی ڈائن پھر بھی ...</td>\n",
              "      <td>جو کڑی شڑی پاکستان اور پاکستانی معاشرے کی رج ک...</td>\n",
              "    </tr>\n",
              "    <tr>\n",
              "      <th>6</th>\n",
              "      <td>مگر میں تو بتا چکی پہلے سے کہ مجھے اردو انڈین ...</td>\n",
              "      <td>neg</td>\n",
              "      <td>1</td>\n",
              "      <td>1</td>\n",
              "      <td>0       ہا ہا ہا ہا لیکن ایک تھی ڈائن پھر بھی ...</td>\n",
              "      <td>مگر میں تو بتا چکی پہلے سے کہ مجھے اردو انڈین ...</td>\n",
              "    </tr>\n",
              "    <tr>\n",
              "      <th>7</th>\n",
              "      <td>حقیقت میں شاید میں ہی محفل پر مغرب کے سب سے زی...</td>\n",
              "      <td>neg</td>\n",
              "      <td>1</td>\n",
              "      <td>1</td>\n",
              "      <td>0       ہا ہا ہا ہا لیکن ایک تھی ڈائن پھر بھی ...</td>\n",
              "      <td>حقیقت میں شاید میں ہی محفل پر مغرب کے سب سے زی...</td>\n",
              "    </tr>\n",
              "    <tr>\n",
              "      <th>8</th>\n",
              "      <td>یخخ گندے</td>\n",
              "      <td>neg</td>\n",
              "      <td>1</td>\n",
              "      <td>1</td>\n",
              "      <td>0       ہا ہا ہا ہا لیکن ایک تھی ڈائن پھر بھی ...</td>\n",
              "      <td>یخخ گندے</td>\n",
              "    </tr>\n",
              "    <tr>\n",
              "      <th>9</th>\n",
              "      <td>اب پتا چلا کہ پاکستانی مرد بیویوں کے نیچے ایسے...</td>\n",
              "      <td>neg</td>\n",
              "      <td>1</td>\n",
              "      <td>1</td>\n",
              "      <td>0       ہا ہا ہا ہا لیکن ایک تھی ڈائن پھر بھی ...</td>\n",
              "      <td>اب پتا چلا کہ پاکستانی مرد بیویوں کے نیچے ایسے...</td>\n",
              "    </tr>\n",
              "  </tbody>\n",
              "</table>\n",
              "</div>\n",
              "      <button class=\"colab-df-convert\" onclick=\"convertToInteractive('df-5ad38d36-f78f-44d2-8770-cac437cce588')\"\n",
              "              title=\"Convert this dataframe to an interactive table.\"\n",
              "              style=\"display:none;\">\n",
              "        \n",
              "  <svg xmlns=\"http://www.w3.org/2000/svg\" height=\"24px\"viewBox=\"0 0 24 24\"\n",
              "       width=\"24px\">\n",
              "    <path d=\"M0 0h24v24H0V0z\" fill=\"none\"/>\n",
              "    <path d=\"M18.56 5.44l.94 2.06.94-2.06 2.06-.94-2.06-.94-.94-2.06-.94 2.06-2.06.94zm-11 1L8.5 8.5l.94-2.06 2.06-.94-2.06-.94L8.5 2.5l-.94 2.06-2.06.94zm10 10l.94 2.06.94-2.06 2.06-.94-2.06-.94-.94-2.06-.94 2.06-2.06.94z\"/><path d=\"M17.41 7.96l-1.37-1.37c-.4-.4-.92-.59-1.43-.59-.52 0-1.04.2-1.43.59L10.3 9.45l-7.72 7.72c-.78.78-.78 2.05 0 2.83L4 21.41c.39.39.9.59 1.41.59.51 0 1.02-.2 1.41-.59l7.78-7.78 2.81-2.81c.8-.78.8-2.07 0-2.86zM5.41 20L4 18.59l7.72-7.72 1.47 1.35L5.41 20z\"/>\n",
              "  </svg>\n",
              "      </button>\n",
              "      \n",
              "  <style>\n",
              "    .colab-df-container {\n",
              "      display:flex;\n",
              "      flex-wrap:wrap;\n",
              "      gap: 12px;\n",
              "    }\n",
              "\n",
              "    .colab-df-convert {\n",
              "      background-color: #E8F0FE;\n",
              "      border: none;\n",
              "      border-radius: 50%;\n",
              "      cursor: pointer;\n",
              "      display: none;\n",
              "      fill: #1967D2;\n",
              "      height: 32px;\n",
              "      padding: 0 0 0 0;\n",
              "      width: 32px;\n",
              "    }\n",
              "\n",
              "    .colab-df-convert:hover {\n",
              "      background-color: #E2EBFA;\n",
              "      box-shadow: 0px 1px 2px rgba(60, 64, 67, 0.3), 0px 1px 3px 1px rgba(60, 64, 67, 0.15);\n",
              "      fill: #174EA6;\n",
              "    }\n",
              "\n",
              "    [theme=dark] .colab-df-convert {\n",
              "      background-color: #3B4455;\n",
              "      fill: #D2E3FC;\n",
              "    }\n",
              "\n",
              "    [theme=dark] .colab-df-convert:hover {\n",
              "      background-color: #434B5C;\n",
              "      box-shadow: 0px 1px 3px 1px rgba(0, 0, 0, 0.15);\n",
              "      filter: drop-shadow(0px 1px 2px rgba(0, 0, 0, 0.3));\n",
              "      fill: #FFFFFF;\n",
              "    }\n",
              "  </style>\n",
              "\n",
              "      <script>\n",
              "        const buttonEl =\n",
              "          document.querySelector('#df-5ad38d36-f78f-44d2-8770-cac437cce588 button.colab-df-convert');\n",
              "        buttonEl.style.display =\n",
              "          google.colab.kernel.accessAllowed ? 'block' : 'none';\n",
              "\n",
              "        async function convertToInteractive(key) {\n",
              "          const element = document.querySelector('#df-5ad38d36-f78f-44d2-8770-cac437cce588');\n",
              "          const dataTable =\n",
              "            await google.colab.kernel.invokeFunction('convertToInteractive',\n",
              "                                                     [key], {});\n",
              "          if (!dataTable) return;\n",
              "\n",
              "          const docLinkHtml = 'Like what you see? Visit the ' +\n",
              "            '<a target=\"_blank\" href=https://colab.research.google.com/notebooks/data_table.ipynb>data table notebook</a>'\n",
              "            + ' to learn more about interactive tables.';\n",
              "          element.innerHTML = '';\n",
              "          dataTable['output_type'] = 'display_data';\n",
              "          await google.colab.output.renderOutput(dataTable, element);\n",
              "          const docLink = document.createElement('div');\n",
              "          docLink.innerHTML = docLinkHtml;\n",
              "          element.appendChild(docLink);\n",
              "        }\n",
              "      </script>\n",
              "    </div>\n",
              "  </div>\n",
              "  "
            ],
            "text/plain": [
              "                                                Text Label  Label2  Labelf  \\\n",
              "0  ہا ہا ہا ہا لیکن ایک تھی ڈائن پھر بھی عاشقی ٹو...   neu       1       1   \n",
              "1  حضور ٹاک شوز پر بڈی ڈال کر مھمانو ں کو کتوں کی...   neu       1       1   \n",
              "2     پھر تو ایسے برے لوگ بہت بڑی تعداد میں ہیں یہاں   neg       1       1   \n",
              "3                                               عذاب   neg       1       1   \n",
              "4  جنات پر شک کرو تو اسلام کی بجلی اتنی زور سے کڑ...   neg       1       1   \n",
              "5  جو کڑی شڑی پاکستان اور پاکستانی معاشرے کی رج ک...   neg       1       1   \n",
              "6  مگر میں تو بتا چکی پہلے سے کہ مجھے اردو انڈین ...   neg       1       1   \n",
              "7  حقیقت میں شاید میں ہی محفل پر مغرب کے سب سے زی...   neg       1       1   \n",
              "8                                           یخخ گندے   neg       1       1   \n",
              "9  اب پتا چلا کہ پاکستانی مرد بیویوں کے نیچے ایسے...   neg       1       1   \n",
              "\n",
              "                                               Text2  \\\n",
              "0  0       ہا ہا ہا ہا لیکن ایک تھی ڈائن پھر بھی ...   \n",
              "1  0       ہا ہا ہا ہا لیکن ایک تھی ڈائن پھر بھی ...   \n",
              "2  0       ہا ہا ہا ہا لیکن ایک تھی ڈائن پھر بھی ...   \n",
              "3  0       ہا ہا ہا ہا لیکن ایک تھی ڈائن پھر بھی ...   \n",
              "4  0       ہا ہا ہا ہا لیکن ایک تھی ڈائن پھر بھی ...   \n",
              "5  0       ہا ہا ہا ہا لیکن ایک تھی ڈائن پھر بھی ...   \n",
              "6  0       ہا ہا ہا ہا لیکن ایک تھی ڈائن پھر بھی ...   \n",
              "7  0       ہا ہا ہا ہا لیکن ایک تھی ڈائن پھر بھی ...   \n",
              "8  0       ہا ہا ہا ہا لیکن ایک تھی ڈائن پھر بھی ...   \n",
              "9  0       ہا ہا ہا ہا لیکن ایک تھی ڈائن پھر بھی ...   \n",
              "\n",
              "                                     lemmatized_text  \n",
              "0  ہا ہا ہا ہا لیکن ایک تھی ڈائن پھر بھی عاشقی ٹو...  \n",
              "1  حضور ٹاک شوز پر بڈی ڈال کر مھمانو ں کو کتوں کی...  \n",
              "2    پھر تو ایسے برے لوگ بہت بڑی تعداد میں ہیں یہاں   \n",
              "3                                              عذاب   \n",
              "4  جنات پر شک کرو تو اسلام کی بجلی اتنی زور سے کڑ...  \n",
              "5  جو کڑی شڑی پاکستان اور پاکستانی معاشرے کی رج ک...  \n",
              "6  مگر میں تو بتا چکی پہلے سے کہ مجھے اردو انڈین ...  \n",
              "7  حقیقت میں شاید میں ہی محفل پر مغرب کے سب سے زی...  \n",
              "8                                          یخخ گندے   \n",
              "9  اب پتا چلا کہ پاکستانی مرد بیویوں کے نیچے ایسے...  "
            ]
          },
          "execution_count": 21,
          "metadata": {},
          "output_type": "execute_result"
        }
      ],
      "source": [
        "dfc.head(10)"
      ]
    },
    {
      "cell_type": "markdown",
      "metadata": {
        "id": "XTnn0jehWvRC"
      },
      "source": [
        "\n",
        "Data is prepared for the Modeling."
      ]
    },
    {
      "cell_type": "markdown",
      "metadata": {
        "id": "XXscXhmHWvRC"
      },
      "source": [
        "### 3.2 Train Test Split"
      ]
    },
    {
      "cell_type": "code",
      "execution_count": null,
      "metadata": {
        "id": "KGsMn6NoWvRD"
      },
      "outputs": [],
      "source": [
        "#X_train, X_test, Y_train, Y_test = train_test_split(dfc['lemmatized_text'], dfc['Labelf'], test_size = 0.20,stratify=dfc['Labelf'], random_state = 3, shuffle = True)\n",
        "\n",
        "df  =  pd.concat([df2,df3,df4,df5,df6,df7,df8,df9,df10]) \n",
        "train = df[['Text', 'Label','Label2']] #[(df['Label'] == \"pos\") | (df['Label'] == \"neg\")| (df['Label'] == \"neu\")]\n",
        "test = df1[['Text', 'Label','Label2']] #[(df10['Label'] == \"pos\") | (df10['Label'] == \"neg\")| (df10['Label'] == \"neu\")]\n",
        "X_train = train['Text']\n",
        "X_test = test['Text']\n",
        "Y_train = train['Label2']\n",
        "Y_test =  test['Label2']"
      ]
    },
    {
      "cell_type": "code",
      "execution_count": null,
      "metadata": {
        "colab": {
          "base_uri": "https://localhost:8080/"
        },
        "id": "r7BQ9OP7WvRD",
        "outputId": "ee4e3d87-1bb6-42a3-f05a-26b5b208a90f"
      },
      "outputs": [
        {
          "name": "stdout",
          "output_type": "stream",
          "text": [
            "Shape of X_train (18085,)\n",
            "Shape of X_test (2010,)\n",
            "Shape of Y_train (18085,)\n",
            "Shape of Y_test (2010,)\n"
          ]
        }
      ],
      "source": [
        "print('Shape of X_train', X_train.shape)\n",
        "print('Shape of X_test', X_test.shape)\n",
        "print('Shape of Y_train', Y_train.shape)\n",
        "print('Shape of Y_test', Y_test.shape)"
      ]
    },
    {
      "cell_type": "markdown",
      "metadata": {
        "id": "4Ma-uR5kWvRD"
      },
      "source": [
        "### 3.3 TF - IDF Vectorization\n",
        "\n",
        "TF-IDF is a statistical measure that evaluates how relevant a word is to a document in a collection of documents. This is done by multiplying two metrics: how many times a word appears in a document, and the inverse document frequency of the word across a set of documents."
      ]
    },
    {
      "cell_type": "code",
      "execution_count": null,
      "metadata": {
        "id": "Y5umr_8CWvRE"
      },
      "outputs": [],
      "source": [
        "#max_feature_num = 9601\n",
        "vectorizer = TfidfVectorizer( )\n",
        "train_vecs = vectorizer.fit_transform(X_train.values.astype('U'))\n",
        "test_vecs = TfidfVectorizer(vocabulary=vectorizer.vocabulary_).fit_transform(X_test)"
      ]
    },
    {
      "cell_type": "code",
      "execution_count": null,
      "metadata": {
        "colab": {
          "base_uri": "https://localhost:8080/"
        },
        "id": "bZNyypAvWvRF",
        "outputId": "de9714f1-d077-4b7d-ae40-2dfd63f0de03"
      },
      "outputs": [
        {
          "data": {
            "text/plain": [
              "((18085, 13595), (2010, 13595))"
            ]
          },
          "execution_count": 25,
          "metadata": {},
          "output_type": "execute_result"
        }
      ],
      "source": [
        "# check the dimensions of feature vectors\n",
        "train_vecs.shape, test_vecs.shape"
      ]
    },
    {
      "cell_type": "markdown",
      "metadata": {
        "id": "qW2qHwsAWvRH"
      },
      "source": [
        "## 4. Applying Machine Learning Modeling Algorithms using TF-IDF\n",
        "\n",
        "We will apply multiple machine learning models and compare the accuracies."
      ]
    },
    {
      "cell_type": "markdown",
      "metadata": {
        "id": "UkzT_FOHWvRI"
      },
      "source": [
        "### 4.1 Support Vector Machine Classifier"
      ]
    },
    {
      "cell_type": "code",
      "execution_count": null,
      "metadata": {
        "id": "gd5VaDHcWvRJ"
      },
      "outputs": [],
      "source": [
        "def SVM_classifier(train_vecs, Y_train, test_vecs, Y_test):\n",
        "    # Training\n",
        "    SVM = svm.LinearSVC()\n",
        "    SVM.fit(train_vecs, Y_train)\n",
        "\n",
        "    # Testing\n",
        "    test_predictionSVM = SVM.predict(test_vecs)\n",
        "    resultingsvm = pd.read_excel(\"/content/drive/My Drive/Thesis_Final/kfold/1fold_aug.xlsx\")\n",
        "    #resultingsvm['X_test'] = X_test\n",
        "    #resultingsvm['Y_test'] = Y_test\n",
        "    resultingsvm['predictions_WA'] = test_predictionSVM\n",
        "    #resultingsvm.to_excel(r'/content/drive/My Drive/Thesis_Final/kfold/1fold_aug.xlsx', index = False)\n",
        "    #import seaborn as sns\n",
        "    #sns.heatmap(confusion_matrix(test_predictionSVM, Y_test),  fmt='g', annot = True)\n",
        "    return classification_report(test_predictionSVM, Y_test, digits=4), confusion_matrix(test_predictionSVM, Y_test)\n",
        "    #return classification_report(test_predictionSVM, Y_test, digits=4), confusion_matrix(test_predictionSVM, Y_test), test_predictionSVM, Y_test"
      ]
    },
    {
      "cell_type": "markdown",
      "metadata": {
        "id": "Xn2sFO-SWvRJ"
      },
      "source": [
        "### 4.2 Logistic Regression Classifier"
      ]
    },
    {
      "cell_type": "code",
      "execution_count": null,
      "metadata": {
        "id": "VJxQDtgQWvRJ"
      },
      "outputs": [],
      "source": [
        "def LR_classifier(train_vecs, Y_train, test_vecs, Y_test):\n",
        "    # Training\n",
        "    LR = LogisticRegression()\n",
        "    LR.fit(train_vecs, Y_train)\n",
        "\n",
        "    # testing\n",
        "    test_predictionLR = LR.predict(test_vecs)\n",
        "\n",
        "    results = pd.DataFrame()# you create new dataframe\n",
        "    results['X_test'] = X_test\n",
        "    results['Y_test'] = Y_test\n",
        "    results['predictions_LR'] = test_predictionLR\n",
        "    #results.to_excel(r'/content/drive/My Drive/Thesis_Final/presults_LR_dataset.xlsx', index = False)\n",
        "\n",
        "    return classification_report(test_predictionLR, Y_test, digits=4) , confusion_matrix(test_predictionLR, Y_test)"
      ]
    },
    {
      "cell_type": "markdown",
      "metadata": {
        "id": "QVSnysSRWvRK"
      },
      "source": [
        "### 4.3 MLP Classifier"
      ]
    },
    {
      "cell_type": "code",
      "execution_count": null,
      "metadata": {
        "id": "O4pttFswWvRK"
      },
      "outputs": [],
      "source": [
        "def MLP_classifier(train_vecs, Y_train, test_vecs, Y_test):\n",
        "    # Training\n",
        "    MLP =  MLPClassifier(hidden_layer_sizes=(150,100,50), max_iter=300,activation = 'relu',solver='adam',random_state=8)\n",
        "    MLP.fit(train_vecs, Y_train)\n",
        "\n",
        "    # Testing\n",
        "    test_predictionMLP = MLP.predict(test_vecs)\n",
        "\n",
        " \n",
        "  \n",
        "    return classification_report(test_predictionMLP, Y_test, digits=4), confusion_matrix(test_predictionMLP, Y_test) "
      ]
    },
    {
      "cell_type": "markdown",
      "metadata": {
        "id": "Zm4qs21cWvRK"
      },
      "source": [
        "### 4.4 Adaboost Classifier"
      ]
    },
    {
      "cell_type": "code",
      "execution_count": null,
      "metadata": {
        "id": "3EVEFhP_WvRK"
      },
      "outputs": [],
      "source": [
        "def ADB_classifier(train_vecs, Y_train, test_vecs, Y_test):\n",
        "    # Training\n",
        "    ADB = AdaBoostClassifier(n_estimators=100, random_state=0)\n",
        "    ADB.fit(train_vecs, Y_train)\n",
        "\n",
        "    # Testing\n",
        "    test_predictionADB = ADB.predict(test_vecs)\n",
        "    return classification_report(test_predictionADB, Y_test, digits=4), confusion_matrix(test_predictionADB, Y_test)  \n"
      ]
    },
    {
      "cell_type": "markdown",
      "metadata": {
        "id": "PLFW-sszWvRL"
      },
      "source": [
        "### 4.5 Random Forest Classifier"
      ]
    },
    {
      "cell_type": "code",
      "execution_count": null,
      "metadata": {
        "id": "SV2utywCWvRL"
      },
      "outputs": [],
      "source": [
        "def RF_classifier(train_vecs, Y_train, test_vecs, Y_test):\n",
        "    # Training\n",
        "    RF = RandomForestClassifier(max_depth=200, n_estimators =400, random_state=0) \n",
        "    \n",
        "    RF.fit(train_vecs, Y_train)\n",
        "\n",
        "    # Testing\n",
        "    test_predictionRF = RF.predict(test_vecs)\n",
        "    results = pd.DataFrame()# you create new dataframe\n",
        "    results['X_test'] = X_test\n",
        "    results['Y_test'] = Y_test\n",
        "    results['predictions_RF'] = test_predictionRF\n",
        "    results.to_excel(r'/content/drive/My Drive/Thesis1/results_RF_dataset2.xlsx', index = False)\n",
        "\n",
        "    return classification_report(test_predictionRF, Y_test, digits=4), confusion_matrix(test_predictionRF, Y_test)"
      ]
    },
    {
      "cell_type": "code",
      "execution_count": null,
      "metadata": {
        "id": "qYjDZK--oQgk"
      },
      "outputs": [],
      "source": [
        "from sklearn.naive_bayes import MultinomialNB\n",
        "\n",
        "def NB_classifier(train_vecs, y_train, test_vecs, y_test):\n",
        "    # Training\n",
        "    GB = MultinomialNB()\n",
        "    GB.fit(train_vecs, y_train)\n",
        "\n",
        "    # testing\n",
        "    test_predictionGB = GB.predict(test_vecs)\n",
        "    results = pd.DataFrame()# you create new dataframe\n",
        "    results['X_test'] = X_test\n",
        "    results['Y_test'] = Y_test\n",
        "    results['predictions_NB'] = test_predictionGB\n",
        "    results.to_excel(r'/content/drive/My Drive/Thesis1/results_NB_dataset2.xlsx', index = False)\n",
        "\n",
        "    \n",
        "    return classification_report(test_predictionGB, y_test, digits=4) , confusion_matrix(test_predictionGB, y_test)"
      ]
    },
    {
      "cell_type": "markdown",
      "metadata": {
        "id": "9HSoDoxbWvRL"
      },
      "source": [
        "## 5. Results of ML Algorithms\n"
      ]
    },
    {
      "cell_type": "code",
      "execution_count": null,
      "metadata": {
        "colab": {
          "base_uri": "https://localhost:8080/"
        },
        "id": "qy_u2P0rWvRL",
        "outputId": "3c11e781-191a-4fbf-9315-82506489fcf9"
      },
      "outputs": [
        {
          "name": "stdout",
          "output_type": "stream",
          "text": [
            "Results of SVM CLASSIFIER on TF-IDF Vectorizer \n",
            "\n",
            "              precision    recall  f1-score   support\n",
            "\n",
            "         1.0     0.9726    0.9654    0.9690       405\n",
            "         2.0     0.8333    0.7957    0.8141       421\n",
            "         3.0     0.6567    0.6633    0.6600       398\n",
            "         4.0     0.9055    0.9146    0.9100       398\n",
            "         5.0     0.7960    0.8247    0.8101       388\n",
            "\n",
            "    accuracy                         0.8328      2010\n",
            "   macro avg     0.8328    0.8328    0.8326      2010\n",
            "weighted avg     0.8335    0.8328    0.8330      2010\n",
            "\n",
            "[[391   3   8   0   3]\n",
            " [  5 335  65   5  11]\n",
            " [  6  53 264  17  58]\n",
            " [  0   4  20 364  10]\n",
            " [  0   7  45  16 320]]\n"
          ]
        }
      ],
      "source": [
        "class_report , conf_matrix = SVM_classifier(train_vecs, Y_train, test_vecs, Y_test)\n",
        "print('Results of SVM CLASSIFIER on TF-IDF Vectorizer \\n')\n",
        "print(class_report)\n",
        "print(conf_matrix)\n"
      ]
    },
    {
      "cell_type": "code",
      "execution_count": null,
      "metadata": {
        "colab": {
          "base_uri": "https://localhost:8080/"
        },
        "id": "BSqGtlnIWvRM",
        "outputId": "f89561bd-fa7c-42e4-c8ce-65402a6473bc"
      },
      "outputs": [
        {
          "name": "stdout",
          "output_type": "stream",
          "text": [
            "Results of Logistic Regression Classifier TF-IDF Vectorizer\n",
            "\n",
            "              precision    recall  f1-score   support\n",
            "\n",
            "         1.0     0.9204    0.9661    0.9427       383\n",
            "         2.0     0.7612    0.8117    0.7856       377\n",
            "         3.0     0.7239    0.5879    0.6488       495\n",
            "         4.0     0.8408    0.8918    0.8656       379\n",
            "         5.0     0.7662    0.8191    0.7918       376\n",
            "\n",
            "    accuracy                         0.8025      2010\n",
            "   macro avg     0.8025    0.8153    0.8069      2010\n",
            "weighted avg     0.7983    0.8025    0.7981      2010\n",
            "\n",
            "[[370   4   8   0   1]\n",
            " [ 10 306  47   9   5]\n",
            " [ 19  78 291  32  75]\n",
            " [  1   6  21 338  13]\n",
            " [  2   8  35  23 308]]\n"
          ]
        },
        {
          "name": "stderr",
          "output_type": "stream",
          "text": [
            "/usr/local/lib/python3.7/dist-packages/sklearn/linear_model/_logistic.py:818: ConvergenceWarning: lbfgs failed to converge (status=1):\n",
            "STOP: TOTAL NO. of ITERATIONS REACHED LIMIT.\n",
            "\n",
            "Increase the number of iterations (max_iter) or scale the data as shown in:\n",
            "    https://scikit-learn.org/stable/modules/preprocessing.html\n",
            "Please also refer to the documentation for alternative solver options:\n",
            "    https://scikit-learn.org/stable/modules/linear_model.html#logistic-regression\n",
            "  extra_warning_msg=_LOGISTIC_SOLVER_CONVERGENCE_MSG,\n"
          ]
        }
      ],
      "source": [
        "class_report , conf_matrix = LR_classifier(train_vecs, Y_train, test_vecs, Y_test)\n",
        "print('Results of Logistic Regression Classifier TF-IDF Vectorizer\\n')\n",
        "print(class_report)\n",
        "print(conf_matrix)"
      ]
    },
    {
      "cell_type": "code",
      "execution_count": null,
      "metadata": {
        "colab": {
          "base_uri": "https://localhost:8080/"
        },
        "id": "c0tPlfkfWvRM",
        "outputId": "585aee5b-2c53-4878-cc7d-86e9b554e41a"
      },
      "outputs": [
        {
          "name": "stdout",
          "output_type": "stream",
          "text": [
            "Results of MLP Classifier on TF-IDF Vectorizer\n",
            "\n",
            "              precision    recall  f1-score   support\n",
            "\n",
            "         1.0     0.9478    0.9896    0.9682       385\n",
            "         2.0     0.8085    0.8045    0.8065       404\n",
            "         3.0     0.7015    0.6558    0.6779       430\n",
            "         4.0     0.8856    0.9082    0.8967       392\n",
            "         5.0     0.8035    0.8095    0.8065       399\n",
            "\n",
            "    accuracy                         0.8294      2010\n",
            "   macro avg     0.8294    0.8335    0.8312      2010\n",
            "weighted avg     0.8263    0.8294    0.8275      2010\n",
            "\n",
            "[[381   1   2   0   1]\n",
            " [  9 325  54   5  11]\n",
            " [  9  61 282  24  54]\n",
            " [  1   6  16 356  13]\n",
            " [  2   9  48  17 323]]\n"
          ]
        }
      ],
      "source": [
        "class_report , conf_matrix = MLP_classifier(train_vecs, Y_train, test_vecs, Y_test)\n",
        "print('Results of MLP Classifier on TF-IDF Vectorizer\\n')\n",
        "print(class_report)\n",
        "print(conf_matrix)"
      ]
    },
    {
      "cell_type": "code",
      "execution_count": null,
      "metadata": {
        "colab": {
          "base_uri": "https://localhost:8080/"
        },
        "id": "XwZGJxSOWvRM",
        "outputId": "ad0fb46d-a567-4a4c-ce19-d9da31cea881"
      },
      "outputs": [
        {
          "name": "stdout",
          "output_type": "stream",
          "text": [
            "Results of Adaboost Classifier on TF-IDF Vectorizer\n",
            "\n",
            "              precision    recall  f1-score   support\n",
            "\n",
            "         1.0     0.8159    0.8962    0.8542       366\n",
            "         2.0     0.6493    0.7016    0.6744       372\n",
            "         3.0     0.7189    0.4238    0.5332       682\n",
            "         4.0     0.5249    0.8023    0.6346       263\n",
            "         5.0     0.5672    0.6972    0.6255       327\n",
            "\n",
            "    accuracy                         0.6552      2010\n",
            "   macro avg     0.6552    0.7042    0.6644      2010\n",
            "weighted avg     0.6736    0.6552    0.6461      2010\n",
            "\n",
            "[[328  13  13   2  10]\n",
            " [ 21 261  58  25   7]\n",
            " [ 45 103 289 107 138]\n",
            " [  3  13  17 211  19]\n",
            " [  5  12  25  57 228]]\n"
          ]
        }
      ],
      "source": [
        "class_report , conf_matrix = ADB_classifier(train_vecs, Y_train, test_vecs, Y_test)\n",
        "print('Results of Adaboost Classifier on TF-IDF Vectorizer\\n')\n",
        "print(class_report)\n",
        "print(conf_matrix)"
      ]
    },
    {
      "cell_type": "code",
      "execution_count": null,
      "metadata": {
        "colab": {
          "base_uri": "https://localhost:8080/"
        },
        "id": "KFlx78cuWvRN",
        "outputId": "75456bd0-0095-4d38-c5a0-ee842121a671"
      },
      "outputs": [
        {
          "name": "stdout",
          "output_type": "stream",
          "text": [
            "Results of Random Forest Classifier on TF-IDF Vectorizer\n",
            "\n",
            "              precision    recall  f1-score   support\n",
            "\n",
            "         1.0     0.9154    0.9735    0.9436       378\n",
            "         2.0     0.7488    0.7859    0.7669       383\n",
            "         3.0     0.7687    0.5598    0.6478       552\n",
            "         4.0     0.8756    0.9488    0.9107       371\n",
            "         5.0     0.6990    0.8620    0.7720       326\n",
            "\n",
            "    accuracy                         0.8015      2010\n",
            "   macro avg     0.8015    0.8260    0.8082      2010\n",
            "weighted avg     0.8009    0.8015    0.7948      2010\n",
            "\n",
            "[[368   3   4   0   3]\n",
            " [  6 301  57  11   8]\n",
            " [ 28  91 309  23 101]\n",
            " [  0   1   9 352   9]\n",
            " [  0   6  23  16 281]]\n"
          ]
        }
      ],
      "source": [
        "class_report , conf_matrix = RF_classifier(train_vecs, Y_train, test_vecs, Y_test)\n",
        "print('Results of Random Forest Classifier on TF-IDF Vectorizer\\n')\n",
        "print(class_report)\n",
        "print(conf_matrix)"
      ]
    },
    {
      "cell_type": "code",
      "execution_count": null,
      "metadata": {
        "colab": {
          "base_uri": "https://localhost:8080/"
        },
        "id": "OOjJ6JM6oftO",
        "outputId": "53d00a42-4cfa-4b04-e437-f230fabc640a"
      },
      "outputs": [
        {
          "name": "stderr",
          "output_type": "stream",
          "text": [
            "/usr/local/lib/python3.7/dist-packages/sklearn/utils/validation.py:598: FutureWarning: np.matrix usage is deprecated in 1.0 and will raise a TypeError in 1.2. Please convert to a numpy array with np.asarray. For more information see: https://numpy.org/doc/stable/reference/generated/numpy.matrix.html\n",
            "  FutureWarning,\n",
            "/usr/local/lib/python3.7/dist-packages/sklearn/utils/validation.py:598: FutureWarning: np.matrix usage is deprecated in 1.0 and will raise a TypeError in 1.2. Please convert to a numpy array with np.asarray. For more information see: https://numpy.org/doc/stable/reference/generated/numpy.matrix.html\n",
            "  FutureWarning,\n"
          ]
        },
        {
          "name": "stdout",
          "output_type": "stream",
          "text": [
            "Results of Naive Bayes Classifier TF-IDF Vectorizer\n",
            "\n",
            "              precision    recall  f1-score   support\n",
            "\n",
            "         1.0     0.9876    0.8862    0.9341       448\n",
            "         2.0     0.7935    0.7955    0.7945       401\n",
            "         3.0     0.5995    0.6886    0.6410       350\n",
            "         4.0     0.9303    0.8078    0.8647       463\n",
            "         5.0     0.7562    0.8736    0.8107       348\n",
            "\n",
            "    accuracy                         0.8134      2010\n",
            "   macro avg     0.8134    0.8103    0.8090      2010\n",
            "weighted avg     0.8280    0.8134    0.8179      2010\n",
            "\n",
            "[[397  15  25   3   8]\n",
            " [  2 319  59   3  18]\n",
            " [  3  49 241   9  48]\n",
            " [  0  16  49 374  24]\n",
            " [  0   3  28  13 304]]\n"
          ]
        }
      ],
      "source": [
        "class_report , conf_matrix = NB_classifier(train_vecs.todense(), Y_train, test_vecs.todense(), Y_test)\n",
        "print('Results of Naive Bayes Classifier TF-IDF Vectorizer\\n')\n",
        "print(class_report)\n",
        "print(conf_matrix)"
      ]
    },
    {
      "cell_type": "markdown",
      "metadata": {
        "id": "7qOKFHe2dX21"
      },
      "source": [
        "\n",
        "\n",
        "\n"
      ]
    },
    {
      "cell_type": "markdown",
      "metadata": {
        "id": "EggLDDuydxZm"
      },
      "source": [
        "# 6. Sentiment Analysis using N-gram and ML Classifier"
      ]
    },
    {
      "cell_type": "code",
      "execution_count": null,
      "metadata": {
        "id": "vPzUfeBniYZY"
      },
      "outputs": [],
      "source": [
        "from sklearn.feature_extraction.text import CountVectorizer\n",
        "\n",
        "from sklearn.feature_extraction import text\n",
        "import warnings\n",
        "warnings.filterwarnings(\"ignore\")"
      ]
    },
    {
      "cell_type": "code",
      "execution_count": null,
      "metadata": {
        "id": "uIH-R9hEa4vi"
      },
      "outputs": [],
      "source": [
        "from sklearn.model_selection import StratifiedKFold, cross_val_score\n",
        "from sklearn.metrics import make_scorer, accuracy_score, precision_score, recall_score, f1_score\n",
        "\n",
        "BOW_convert = CountVectorizer( lowercase=False, ngram_range=(1,2))\n",
        "X_train_BOW = BOW_convert.fit_transform(X_train.values.astype('U')) \n",
        "X_test_BOW = BOW_convert.transform(X_test)"
      ]
    },
    {
      "cell_type": "code",
      "execution_count": null,
      "metadata": {
        "colab": {
          "base_uri": "https://localhost:8080/"
        },
        "id": "14O10sS6lUFY",
        "outputId": "84c3c67a-c5e8-4de5-aa0b-6b3206bda9b9"
      },
      "outputs": [
        {
          "name": "stdout",
          "output_type": "stream",
          "text": [
            "Results of SVM CLASSIFIER on N-Gram\n",
            "\n",
            "              precision    recall  f1-score   support\n",
            "\n",
            "         1.0     0.9726    0.9726    0.9726       402\n",
            "         2.0     0.8284    0.8284    0.8284       402\n",
            "         3.0     0.6915    0.6764    0.6839       411\n",
            "         4.0     0.9453    0.9429    0.9441       403\n",
            "         5.0     0.8259    0.8469    0.8363       392\n",
            "\n",
            "    accuracy                         0.8527      2010\n",
            "   macro avg     0.8527    0.8535    0.8531      2010\n",
            "weighted avg     0.8522    0.8527    0.8524      2010\n",
            "\n",
            "[[391   4   6   0   1]\n",
            " [  1 333  61   1   6]\n",
            " [  7  57 278  12  57]\n",
            " [  2   3  12 380   6]\n",
            " [  1   5  45   9 332]]\n"
          ]
        }
      ],
      "source": [
        "class_report , conf_matrix = SVM_classifier(X_train_BOW, Y_train, X_test_BOW, Y_test)\n",
        "print('Results of SVM CLASSIFIER on N-Gram\\n')\n",
        "print(class_report)\n",
        "print(conf_matrix)\n"
      ]
    },
    {
      "cell_type": "code",
      "execution_count": null,
      "metadata": {
        "colab": {
          "base_uri": "https://localhost:8080/"
        },
        "id": "kkoM9OyylU4J",
        "outputId": "fd5ddf83-e41f-4c57-c2b1-777348628b86"
      },
      "outputs": [
        {
          "name": "stdout",
          "output_type": "stream",
          "text": [
            "Results of Logistic Regression Classifier on N-Gram\n",
            "\n",
            "              precision    recall  f1-score   support\n",
            "\n",
            "         1.0     0.9577    0.9796    0.9686       393\n",
            "         2.0     0.8060    0.8308    0.8182       390\n",
            "         3.0     0.7289    0.6397    0.6814       458\n",
            "         4.0     0.9080    0.9288    0.9182       393\n",
            "         5.0     0.8010    0.8564    0.8278       376\n",
            "\n",
            "    accuracy                         0.8403      2010\n",
            "   macro avg     0.8403    0.8471    0.8428      2010\n",
            "weighted avg     0.8371    0.8403    0.8378      2010\n",
            "\n",
            "[[385   3   4   0   1]\n",
            " [  3 324  52   5   6]\n",
            " [ 13  70 293  17  65]\n",
            " [  1   3  16 365   8]\n",
            " [  0   2  37  15 322]]\n"
          ]
        }
      ],
      "source": [
        "class_report , conf_matrix = LR_classifier(X_train_BOW, Y_train, X_test_BOW, Y_test)\n",
        "print('Results of Logistic Regression Classifier on N-Gram\\n')\n",
        "print(class_report)\n",
        "print(conf_matrix)\n"
      ]
    },
    {
      "cell_type": "code",
      "execution_count": null,
      "metadata": {
        "colab": {
          "background_save": true
        },
        "id": "9bp50rs8lVAC",
        "outputId": "7407a0f0-68bf-4498-c583-9e6c240825cc"
      },
      "outputs": [
        {
          "name": "stdout",
          "output_type": "stream",
          "text": [
            "Results of MLP Classifier on N-Gram\n",
            "\n",
            "              precision    recall  f1-score   support\n",
            "\n",
            "         1.0     0.9652    0.9652    0.9652       402\n",
            "         2.0     0.8159    0.7828    0.7990       419\n",
            "         3.0     0.6070    0.6835    0.6430       357\n",
            "         4.0     0.9527    0.9033    0.9274       424\n",
            "         5.0     0.8234    0.8113    0.8173       408\n",
            "\n",
            "    accuracy                         0.8328      2010\n",
            "   macro avg     0.8328    0.8292    0.8304      2010\n",
            "weighted avg     0.8390    0.8328    0.8353      2010\n",
            "\n",
            "[[388   5   9   0   0]\n",
            " [  2 328  67   3  19]\n",
            " [  7  57 244   5  44]\n",
            " [  2   3  28 383   8]\n",
            " [  3   9  54  11 331]]\n"
          ]
        }
      ],
      "source": [
        "class_report , conf_matrix = MLP_classifier(X_train_BOW, Y_train, X_test_BOW, Y_test)\n",
        "print('Results of MLP Classifier on N-Gram\\n')\n",
        "print(class_report)\n",
        "print(conf_matrix)"
      ]
    },
    {
      "cell_type": "code",
      "execution_count": null,
      "metadata": {
        "colab": {
          "background_save": true
        },
        "id": "N6Onw68HlVLM",
        "outputId": "ff1145a3-b183-474b-aa61-b4f61dbe3b16"
      },
      "outputs": [
        {
          "name": "stdout",
          "output_type": "stream",
          "text": [
            "Results of Adaboost Classifier on N-Gram\n",
            "\n",
            "              precision    recall  f1-score   support\n",
            "\n",
            "         1.0     0.8209    0.9091    0.8627       363\n",
            "         2.0     0.6443    0.6907    0.6667       375\n",
            "         3.0     0.7388    0.4286    0.5425       693\n",
            "         4.0     0.5224    0.8203    0.6383       256\n",
            "         5.0     0.5547    0.6904    0.6152       323\n",
            "\n",
            "    accuracy                         0.6562      2010\n",
            "   macro avg     0.6562    0.7078    0.6651      2010\n",
            "weighted avg     0.6789    0.6562    0.6474      2010\n",
            "\n",
            "[[330  14   6   4   9]\n",
            " [ 22 259  57  27  10]\n",
            " [ 37 110 297 109 140]\n",
            " [  5   5  16 210  20]\n",
            " [  8  14  26  52 223]]\n"
          ]
        }
      ],
      "source": [
        "class_report , conf_matrix = ADB_classifier(X_train_BOW, Y_train, X_test_BOW, Y_test)\n",
        "print('Results of Adaboost Classifier on N-Gram\\n')\n",
        "print(class_report)\n",
        "print(conf_matrix)"
      ]
    },
    {
      "cell_type": "code",
      "execution_count": null,
      "metadata": {
        "colab": {
          "background_save": true
        },
        "id": "0HGL6CUblVZz",
        "outputId": "7e3ddc71-86bf-429c-c9a7-9b6f42c2211f"
      },
      "outputs": [
        {
          "name": "stdout",
          "output_type": "stream",
          "text": [
            "Results of Random Forest Classifier on N-Gram\n",
            "\n",
            "              precision    recall  f1-score   support\n",
            "\n",
            "         1.0     0.9328    0.9791    0.9554       383\n",
            "         2.0     0.7587    0.8266    0.7912       369\n",
            "         3.0     0.7935    0.5737    0.6660       556\n",
            "         4.0     0.8831    0.9699    0.9245       366\n",
            "         5.0     0.7189    0.8601    0.7832       336\n",
            "\n",
            "    accuracy                         0.8174      2010\n",
            "   macro avg     0.8174    0.8419    0.8240      2010\n",
            "weighted avg     0.8175    0.8174    0.8108      2010\n",
            "\n",
            "[[375   3   3   0   2]\n",
            " [  3 305  47   9   5]\n",
            " [ 24  88 319  23 102]\n",
            " [  0   0   7 355   4]\n",
            " [  0   6  26  15 289]]\n"
          ]
        }
      ],
      "source": [
        "class_report , conf_matrix = RF_classifier(X_train_BOW, Y_train, X_test_BOW, Y_test)\n",
        "print('Results of Random Forest Classifier on N-Gram\\n')\n",
        "print(class_report)\n",
        "print(conf_matrix)"
      ]
    },
    {
      "cell_type": "code",
      "execution_count": null,
      "metadata": {
        "colab": {
          "background_save": true
        },
        "id": "mnF9Yau_hA9_",
        "outputId": "05ed79ae-e8b7-4d22-f76c-4d815a0e35f7"
      },
      "outputs": [
        {
          "name": "stdout",
          "output_type": "stream",
          "text": [
            "Results of Naive Bayes Classifier N-gram\n",
            "\n",
            "              precision    recall  f1-score   support\n",
            "\n",
            "         1.0     0.9925    0.9366    0.9638       426\n",
            "         2.0     0.8607    0.8522    0.8564       406\n",
            "         3.0     0.6965    0.7254    0.7107       386\n",
            "         4.0     0.9726    0.8631    0.9146       453\n",
            "         5.0     0.7562    0.8968    0.8205       339\n",
            "\n",
            "    accuracy                         0.8557      2010\n",
            "   macro avg     0.8557    0.8548    0.8532      2010\n",
            "weighted avg     0.8647    0.8557    0.8582      2010\n",
            "\n",
            "[[399   8  16   1   2]\n",
            " [  0 346  46   1  13]\n",
            " [  2  40 280   1  63]\n",
            " [  1   5  36 391  20]\n",
            " [  0   3  24   8 304]]\n"
          ]
        }
      ],
      "source": [
        "class_report , conf_matrix = NB_classifier(X_train_BOW.todense(), Y_train, X_test_BOW.todense(), Y_test)\n",
        "print('Results of Naive Bayes Classifier N-gram\\n')\n",
        "print(class_report)\n",
        "print(conf_matrix)"
      ]
    }
  ],
  "metadata": {
    "accelerator": "GPU",
    "colab": {
      "collapsed_sections": [],
      "name": "sentiment_analysis_multiclass_with_augmentation using ML(SVM,LR)_Fold1.ipynb",
      "provenance": []
    },
    "kernelspec": {
      "display_name": "Python 3",
      "language": "python",
      "name": "python3"
    },
    "language_info": {
      "codemirror_mode": {
        "name": "ipython",
        "version": 3
      },
      "file_extension": ".py",
      "mimetype": "text/x-python",
      "name": "python",
      "nbconvert_exporter": "python",
      "pygments_lexer": "ipython3",
      "version": "3.7.7"
    }
  },
  "nbformat": 4,
  "nbformat_minor": 0
}